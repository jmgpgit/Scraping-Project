{
 "cells": [
  {
   "attachments": {},
   "cell_type": "markdown",
   "metadata": {},
   "source": [
    "### (Ignore) Convenience Code"
   ]
  },
  {
   "cell_type": "code",
   "execution_count": 1,
   "metadata": {},
   "outputs": [],
   "source": [
    "import os"
   ]
  },
  {
   "cell_type": "code",
   "execution_count": 2,
   "metadata": {},
   "outputs": [],
   "source": [
    "dir_paths = ['../data','../data/tops','../data/wikitop100list','../data/videos']\n",
    "\n",
    "for i in dir_paths:\n",
    "    try:\n",
    "        os.mkdir(i)\n",
    "    except:\n",
    "        continue"
   ]
  },
  {
   "attachments": {},
   "cell_type": "markdown",
   "metadata": {},
   "source": [
    "https://www.reddit.com/r/dataisbeautiful/comments/8j7eg9/total_unique_number_of_words_in_song_lyrics_by/\n",
    "\n",
    "https://word.tips/singers-vocabularies/\n",
    "\n",
    "https://www.kaggle.com/code/robikscube/working-with-audio-in-python/notebook\n",
    "\n",
    "https://developers.google.com/youtube/v3/getting-started?authuser=2\n",
    "\n",
    "https://developers.google.com/youtube/v3/code_samples/code_snippets?authuser=2\n",
    "\n",
    "https://www.kaggle.com/datasets/rsrishav/youtube-trending-video-dataset\n",
    "\n",
    "https://www.kaggle.com/code/robikscube/sentiment-analysis-python-youtube-tutorial\n",
    "\n",
    "https://www.kaggle.com/datasets/advaypatil/youtube-statistics\n",
    "\n",
    "https://www.kaggle.com/datasets/datasnaek/youtube-new\n",
    "\n"
   ]
  },
  {
   "cell_type": "markdown",
   "metadata": {},
   "source": []
  }
 ],
 "metadata": {
  "kernelspec": {
   "display_name": "base",
   "language": "python",
   "name": "python3"
  },
  "language_info": {
   "codemirror_mode": {
    "name": "ipython",
    "version": 3
   },
   "file_extension": ".py",
   "mimetype": "text/x-python",
   "name": "python",
   "nbconvert_exporter": "python",
   "pygments_lexer": "ipython3",
   "version": "3.8.8"
  },
  "orig_nbformat": 4,
  "vscode": {
   "interpreter": {
    "hash": "9412b45e6a57aa9914730508726d49801d3b2c579f461e1fb13c705887a7b1f6"
   }
  }
 },
 "nbformat": 4,
 "nbformat_minor": 2
}
