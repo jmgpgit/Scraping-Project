{
 "cells": [
  {
   "attachments": {},
   "cell_type": "markdown",
   "metadata": {},
   "source": [
    "## Scrape of top 10 songs for artists in LastFM\n",
    "\n",
    "### Imports"
   ]
  },
  {
   "cell_type": "code",
   "execution_count": 17,
   "metadata": {},
   "outputs": [],
   "source": [
    "import pandas as pd\n",
    "\n",
    "from multiprocessing import cpu_count\n",
    "\n",
    "\n",
    "from selenium import webdriver\n",
    "from selenium.webdriver.firefox.options import Options\n",
    "from selenium.webdriver.common.by import By\n",
    "from selenium.webdriver.firefox.service import Service as FirefoxService\n",
    "from selenium.webdriver.firefox.firefox_binary import FirefoxBinary\n",
    "from webdriver_manager.firefox import GeckoDriverManager\n",
    "from joblib import Parallel, delayed\n",
    "from os.path import isfile\n",
    "\n",
    "import time\n",
    "import json\n",
    "import warnings\n",
    "warnings.filterwarnings('ignore')\n"
   ]
  },
  {
   "attachments": {},
   "cell_type": "markdown",
   "metadata": {},
   "source": [
    "#### Driver Options"
   ]
  },
  {
   "cell_type": "code",
   "execution_count": 18,
   "metadata": {},
   "outputs": [
    {
     "name": "stderr",
     "output_type": "stream",
     "text": [
      "[WDM] - Downloading: 16.9kB [00:00, 17.3MB/s]                   \n"
     ]
    }
   ],
   "source": [
    "PATH=FirefoxService(GeckoDriverManager().install())\n",
    "binary = FirefoxBinary(r'C:\\Program Files\\Mozilla Firefox\\Firefox.exe')\n",
    "\n",
    "opciones=Options()\n",
    "#opciones.headless = True\n",
    "#opciones.add_argument('--incognito')"
   ]
  },
  {
   "attachments": {},
   "cell_type": "markdown",
   "metadata": {},
   "source": [
    "#### Driver Shorthand *(Deprecated)*"
   ]
  },
  {
   "cell_type": "code",
   "execution_count": 19,
   "metadata": {},
   "outputs": [],
   "source": [
    "# #find element\n",
    "# f = lambda x, y=driver : y.find_element(By.XPATH, x)\n",
    "# #find elements\n",
    "# fs = lambda x, y=driver : y.find_elements(By.XPATH, x)\n",
    "# #find and prepare to click\n",
    "# fc = lambda x, y=driver : y.find_element(By.XPATH, x).click()"
   ]
  },
  {
   "attachments": {},
   "cell_type": "markdown",
   "metadata": {},
   "source": [
    "#### Scraping Utilities"
   ]
  },
  {
   "cell_type": "code",
   "execution_count": 20,
   "metadata": {},
   "outputs": [],
   "source": [
    "url = 'https://www.last.fm/music/'\n",
    "\n",
    "# HTML XPATH values\n",
    "cookies_XPATH = '//*[@id=\"onetrust-accept-btn-handler\"]'\n",
    "change_period_XPATH = '//*[@id=\"top-tracks\"]/div[1]/button[2]'\n",
    "all_songs_XPATH = '//*[@id=\"top-tracks-sort\"]/li[6]/a'\n",
    "row_XPATH = '//*[@id=\"top-tracks\"]/div[2]/table/tbody//tr'"
   ]
  },
  {
   "cell_type": "code",
   "execution_count": 21,
   "metadata": {},
   "outputs": [],
   "source": [
    "#Cleaning functions (for use in the scrapper)\n",
    "def trim_row(row:list):\n",
    "    '''\n",
    "    Only used as part of scrapper function\n",
    "    \n",
    "    Selects only the rows that we want from the table\n",
    "    '''\n",
    "    new = []\n",
    "    new.append(row[0])\n",
    "    new.append(row[4])\n",
    "    new.append(row[7])\n",
    "    return new\n",
    "\n",
    "\n",
    "def row_clean(row:list):\n",
    "    '''\n",
    "    Only used as part of scrapper function\n",
    "    \n",
    "    Cleans up the row items to a better format\n",
    "    '''\n",
    "    new = []\n",
    "    new.append(int(row[0]))\n",
    "    new.append(row[1])\n",
    "    temp = row[2].replace(',','')\n",
    "    new.append(int(temp.split()[0]))\n",
    "    return new"
   ]
  },
  {
   "attachments": {},
   "cell_type": "markdown",
   "metadata": {},
   "source": [
    "### Scraper"
   ]
  },
  {
   "cell_type": "code",
   "execution_count": 22,
   "metadata": {},
   "outputs": [],
   "source": [
    "top_10_paths = dict() # For safekeeping paths\n",
    "cols = ['Rank','Track_Name','Listeners'] # Columns for our dataframe\n",
    "fail_dict = {}  # For keeping track of failed attemps\n",
    "\n",
    "\n",
    "def top_10_scrapper(artist:str, error_count = 0):\n",
    "    '''\n",
    "    Scrapes through \"lastfm.com\" to find the top 10 most listened to\n",
    "    songs for the given artist. Saves the information to parquet.\n",
    "    \n",
    "    Method:\n",
    "    1) Navigates the website (accepts cookies, selects table)\n",
    "    2) Clean table rows and add to pandas dataframe\n",
    "    3) Export to .parquet and saves the file path to top_10_paths\n",
    "    \n",
    "    '''\n",
    "    \n",
    "    artist = artist.replace('/',' ') # AC/DC giving me problems............\n",
    "    artist = artist.replace(' ','_') # For filemaking\n",
    "    art = url+artist.replace('_','+') # URL search\n",
    "    \n",
    "    path = '../data/tops/' + artist + '.parquet' # Path\n",
    "    top_10_paths[artist] = path # Store path\n",
    "    \n",
    "    if isfile(path):\n",
    "        print(artist, 'already exists in database')\n",
    "        return \n",
    "    \n",
    "    \n",
    "    # Initialize driver\n",
    "    driver = webdriver.Firefox(firefox_binary=binary,options = opciones)\n",
    "    driver.get(art)\n",
    "    # Accept cookies\n",
    "    time.sleep(7)\n",
    "    try:\n",
    "        driver.find_element(By.XPATH, cookies_XPATH).click()\n",
    "        \n",
    "    except:\n",
    "        error_count +=1\n",
    "        if error_count < 3:\n",
    "            print('cookie click error for artist: ',artist)\n",
    "            driver.quit()\n",
    "            return top_10_scrapper(artist, error_count)\n",
    "        else:\n",
    "            print('Error handling (cookies): ', artist)\n",
    "            fail_dict[artist] = 1\n",
    "            driver.quit()\n",
    "            return\n",
    "    # Select top 10 of all time\n",
    "    time.sleep(1)\n",
    "    driver.find_element(By.XPATH, change_period_XPATH).click()\n",
    "    time.sleep(1)\n",
    "    driver.find_element(By.XPATH, all_songs_XPATH).click()\n",
    "    time.sleep(1)\n",
    "    # Select the top 10 table\n",
    "    #elements = list(map(row_clean,[[j.text for j in row] for row in [trim_row(i.find_elements(By.XPATH, 'td')) for i in driver.find_elements(By.XPATH, all_songs_XPATH)]]))\n",
    "    elements = list(map(row_clean,[[j.text for j in trim_row(i.find_elements(By.XPATH,'td'))] for i in driver.find_elements(By.XPATH, row_XPATH)]))\n",
    "    # insert into dataframe and add artist name for safekeeping\n",
    "    time.sleep(2)\n",
    "    driver.quit()\n",
    "    df = pd.DataFrame(elements,columns=cols)\n",
    "    df['Artist'] = artist\n",
    "\n",
    "    # To parquet for safekeeping\n",
    "    df.to_parquet( path ,index=False)\n",
    "    \n",
    "    print('Uploaded ' + artist)\n",
    "    return "
   ]
  },
  {
   "cell_type": "code",
   "execution_count": 23,
   "metadata": {},
   "outputs": [
    {
     "data": {
      "text/plain": [
       "0        The Beatles\n",
       "1      Elvis Presley\n",
       "2    Michael Jackson\n",
       "3         Elton John\n",
       "4              Queen\n",
       "Name: Artist, dtype: object"
      ]
     },
     "execution_count": 23,
     "metadata": {},
     "output_type": "execute_result"
    }
   ],
   "source": [
    "artists = pd.read_parquet(r'..\\data\\wikitop100list\\artists.parquet')['Artist']\n",
    "artists.head()"
   ]
  },
  {
   "cell_type": "code",
   "execution_count": 24,
   "metadata": {},
   "outputs": [],
   "source": [
    "def main(cpus):\n",
    "    Parallel(n_jobs=cpus, verbose=False,prefer=\"threads\")(delayed(top_10_scrapper)(x) for x in artists)"
   ]
  },
  {
   "cell_type": "code",
   "execution_count": 25,
   "metadata": {},
   "outputs": [
    {
     "name": "stdout",
     "output_type": "stream",
     "text": [
      "The_BeatlesMichael_Jackson already exists in database\n",
      "Elvis_Presley already exists in database\n",
      "Elton_John already exists in database\n",
      "Queen already exists in database\n",
      "Madonna already exists in database\n",
      "Led_Zeppelin already exists in database\n",
      "Rihanna already exists in database\n",
      "Pink_Floyd already exists in database\n",
      "Eminem already exists in database\n",
      " already exists in database\n",
      "Mariah_Carey already exists in database\n",
      "Taylor_Swift already exists in database\n",
      "Beyoncé already exists in database\n",
      "Whitney_Houston already exists in database\n",
      "Eagles already exists in database\n",
      "Celine_Dion already exists in database\n",
      "The_Rolling_Stones already exists in database\n",
      "AC_DC already exists in database\n",
      "Drake already exists in database\n",
      "Garth_Brooks already exists in database\n",
      "Kanye_West already exists in database\n",
      "Billy_Joel already exists in database\n",
      "Justin_Bieber already exists in database\n",
      "Ed_Sheeran already exists in database\n",
      "Bruno_Mars already exists in database\n",
      "Bruce_Springsteen already exists in database\n",
      "Frank_Sinatra already exists in database\n",
      "U2 already exists in database\n",
      "Aerosmith already exists in database\n",
      "Phil_Collins already exists in database\n",
      "Barbra_Streisand already exists in database\n",
      "ABBA already exists in database\n",
      "Katy_Perry already exists in database\n",
      "Chris_Brown already exists in database\n",
      "Jay-Z already exists in database\n",
      "Metallica already exists in database\n",
      "Bon_Jovi already exists in database\n",
      "Lil_Wayne already exists in database\n",
      "Maroon_5 already exists in database\n",
      "Adele already exists in database\n",
      "Red_Hot_Chili_Peppers already exists in database\n",
      "Fleetwood_Mac already exists in database\n",
      "Lady_Gaga already exists in database\n",
      "Rod_Stewart already exists in database\n",
      "Bee_Gees already exists in database\n",
      "Nicki_Minaj already exists in database\n",
      "Coldplay already exists in database\n",
      "Linkin_Park already exists in database\n",
      "George_Strait already exists in database\n",
      "Pink already exists in database\n",
      "Eric_Clapton already exists in database\n",
      "Britney_Spears already exists in database\n",
      "B'z already exists in database\n",
      "Prince already exists in database\n",
      "Guns_N'_Roses already exists in database\n",
      "Journey already exists in database\n",
      "Neil_Diamond already exists in database\n",
      "Paul_McCartney already exists in database\n",
      "Shania_Twain already exists in database\n",
      "Backstreet_Boys already exists in database\n",
      "Janet_Jackson already exists in database\n",
      "Kenny_Rogers already exists in database\n",
      "Santana already exists in database\n",
      "Simon_&_Garfunkel already exists in database\n",
      "George_Michael already exists in database\n",
      "Julio_Iglesias already exists in database\n",
      "Chicago already exists in database\n",
      "Bob_Dylan already exists in database\n",
      "The_Doors already exists in database\n",
      "Foreigner already exists in database\n",
      "Def_Leppard already exists in database\n",
      "The_Carpenters already exists in database\n",
      "Cher already exists in database\n",
      "Dire_Straits already exists in database\n",
      "Earth,_Wind_&_Fire already exists in database\n",
      "Meat_Loaf already exists in database\n",
      "Genesis already exists in database\n",
      "David_Bowie already exists in database\n",
      "Stevie_Wonder already exists in database\n",
      "James_Taylor already exists in database\n",
      "Tina_Turner already exists in database\n",
      "Olivia_Newton-John already exists in database\n",
      "Linda_Ronstadt already exists in database\n",
      "Alicia_Keys already exists in database\n",
      "The_Beach_Boys already exists in database\n",
      "Donna_Summer already exists in database\n",
      "Christina_Aguilera already exists in database\n",
      "Lionel_Richie already exists in database\n",
      "Johnny_Cash already exists in database\n",
      "Justin_Timberlake already exists in database\n",
      "Ariana_Grande already exists in database\n",
      "R.E.M. already exists in database\n",
      "Post_Malone already exists in database\n",
      "Flo_Rida already exists in database\n",
      "Shakira already exists in database\n",
      "Ayumi_Hamasaki already exists in database\n",
      "Tim_McGraw already exists in database\n",
      "The_Black_Eyed_Peas already exists in database\n",
      "Van_Halen already exists in database\n",
      "Tom_Petty already exists in database\n",
      "Usher already exists in database\n",
      "Johnny_Hallyday already exists in database\n"
     ]
    }
   ],
   "source": [
    "main(max(cpu_count()-4,2))"
   ]
  },
  {
   "cell_type": "code",
   "execution_count": 26,
   "metadata": {},
   "outputs": [],
   "source": [
    "with open('../data/tops/_paths.json', 'w') as fp: # Store paths for easy data access\n",
    "    json.dump(top_10_paths, fp)"
   ]
  }
 ],
 "metadata": {
  "kernelspec": {
   "display_name": "Python 3",
   "language": "python",
   "name": "python3"
  },
  "language_info": {
   "codemirror_mode": {
    "name": "ipython",
    "version": 3
   },
   "file_extension": ".py",
   "mimetype": "text/x-python",
   "name": "python",
   "nbconvert_exporter": "python",
   "pygments_lexer": "ipython3",
   "version": "3.11.2"
  },
  "orig_nbformat": 4,
  "vscode": {
   "interpreter": {
    "hash": "a7e99fc97798e89b261cde3357a501ac015a62222315f9b6d785016d0b13f1a9"
   }
  }
 },
 "nbformat": 4,
 "nbformat_minor": 2
}
