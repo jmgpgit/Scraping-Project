{
 "cells": [
  {
   "attachments": {},
   "cell_type": "markdown",
   "metadata": {},
   "source": [
    "### Preliminaries (See Scrape.ipynb for more details)"
   ]
  },
  {
   "cell_type": "code",
   "execution_count": 1,
   "metadata": {},
   "outputs": [],
   "source": [
    "import pandas as pd\n",
    "import numpy as np\n",
    "import matplotlib.pylab as plt\n",
    "from selenium import webdriver\n",
    "from selenium.webdriver.chrome.options import Options\n",
    "from webdriver_manager.chrome import ChromeDriverManager\n",
    "from selenium.webdriver.common.by import By\n",
    "from selenium.webdriver.support.ui import WebDriverWait   \n",
    "from selenium.webdriver.support import expected_conditions as EC \n",
    "from selenium.webdriver import ActionChains as AC   \n",
    "from selenium.webdriver.common.keys import Keys  \n",
    "import time\n",
    "from tqdm.notebook import tqdm\n",
    "\n",
    "opciones=Options()\n",
    "opciones.add_experimental_option('excludeSwitches', ['enable-automation'])\n",
    "opciones.add_experimental_option('useAutomationExtension', False) \n",
    "opciones.add_argument('--start-maximized')\n",
    "#opciones.add_argument('--incognito')\n"
   ]
  },
  {
   "cell_type": "code",
   "execution_count": 2,
   "metadata": {},
   "outputs": [
    {
     "name": "stderr",
     "output_type": "stream",
     "text": [
      "<ipython-input-2-0b7e44bbe702>:2: DeprecationWarning: executable_path has been deprecated, please pass in a Service object\n",
      "  driver=webdriver.Chrome(PATH, options=opciones)\n"
     ]
    }
   ],
   "source": [
    "PATH=ChromeDriverManager().install()\n",
    "driver=webdriver.Chrome(PATH, options=opciones) "
   ]
  },
  {
   "cell_type": "code",
   "execution_count": 3,
   "metadata": {},
   "outputs": [],
   "source": [
    "#find element\n",
    "f = lambda x, y=driver : y.find_element(By.XPATH, x)\n",
    "#find elements\n",
    "fs = lambda x, y=driver : y.find_elements(By.XPATH, x)\n",
    "#find and prepare to click\n",
    "fc = lambda x, y=driver : y.find_element(By.XPATH, x).click()"
   ]
  },
  {
   "attachments": {},
   "cell_type": "markdown",
   "metadata": {},
   "source": [
    "### List of Best Selling Artists"
   ]
  },
  {
   "attachments": {},
   "cell_type": "markdown",
   "metadata": {},
   "source": [
    "##### Open Page"
   ]
  },
  {
   "cell_type": "code",
   "execution_count": 4,
   "metadata": {},
   "outputs": [],
   "source": [
    "top_artists = 'https://en.wikipedia.org/wiki/List_of_best-selling_music_artists'\n",
    "driver.get(top_artists)\n",
    "time.sleep(2)"
   ]
  },
  {
   "attachments": {},
   "cell_type": "markdown",
   "metadata": {},
   "source": [
    "##### Table Headers"
   ]
  },
  {
   "cell_type": "code",
   "execution_count": 5,
   "metadata": {},
   "outputs": [],
   "source": [
    "headers = [j.text for j in fs('//*[@id=\"mw-content-text\"]/div[1]/table[1]/thead/tr/th')]\n",
    "time.sleep(2)\n",
    "headers[-2] = headers[-2].split('\\n')[0]"
   ]
  },
  {
   "attachments": {},
   "cell_type": "markdown",
   "metadata": {},
   "source": [
    "##### Table Body"
   ]
  },
  {
   "cell_type": "code",
   "execution_count": 6,
   "metadata": {},
   "outputs": [],
   "source": [
    "all_tables = [[[f('th',i).text] +[j.text for j in fs('td',i)] for i in fs('tbody/tr',k)] for k in fs('//*[@id=\"mw-content-text\"]/div//table')[:5]] # 5 different tables\n",
    "values = [rows for table in all_tables for rows in table] # flatten to one single table\n",
    "artists = pd.DataFrame(values, columns = headers) # export to dataframe"
   ]
  },
  {
   "attachments": {},
   "cell_type": "markdown",
   "metadata": {},
   "source": [
    "##### Cleaning Data"
   ]
  },
  {
   "cell_type": "code",
   "execution_count": 7,
   "metadata": {},
   "outputs": [],
   "source": [
    "# Remove footnotes/references\n",
    "for i in ['Period active','Release-year of first charted record','Genre','Claimed sales']:\n",
    "    artists[i] = artists[i].apply(lambda x : x.split('[')[0])\n",
    "\n",
    "# Remove useless/uncertain info\n",
    "artists['Total certified units'] = artists['Total certified units'].apply(lambda x : x.strip('show\\n\\n'))\n",
    "artists['Country'] = artists['Country'].apply(lambda x : x.split('\\n')[0])\n",
    "\n",
    "# New Active column if presently active\n",
    "artists['Active'] = artists['Period active'].apply(lambda x :'present' in x.lower())\n",
    "\n",
    "# Make easier to use active period columns\n",
    "def present(y):\n",
    "    '''\n",
    "    Returns year if band is not active, else NA\n",
    "    '''\n",
    "    try:\n",
    "        int(y.split('–')[1])\n",
    "        return y.split('–')[1]\n",
    "    except:\n",
    "        return pd.NA\n",
    "artists['Start Year'] = artists['Period active'].apply(lambda x : x.split('–')[0])\n",
    "artists['End Year'] = artists['Period active'].apply(present)\n",
    "artists.drop(columns='Period active',inplace=True)\n",
    "\n",
    "# Turn numerical values into machine-readable number data type\n",
    "artists['Total certified units'] = artists['Total certified units'].apply( lambda x : float(x.split('m')[0]) * 1000000)\n",
    "artists['Claimed sales'] = artists['Claimed sales'].apply( lambda x : float(x.split('m')[0]) * 1000000)\n",
    "\n",
    "# clear spaces in column names\n",
    "x = list(map(lambda x : x.replace(' ','_'),artists.columns))\n",
    "artists = artists.rename(columns= {i: x[j] for j, i in enumerate(artists.columns)})"
   ]
  },
  {
   "attachments": {},
   "cell_type": "markdown",
   "metadata": {},
   "source": [
    "##### Exporting Genres"
   ]
  },
  {
   "cell_type": "code",
   "execution_count": 9,
   "metadata": {},
   "outputs": [],
   "source": [
    "# Unique genres\n",
    "genres = set()\n",
    "for i in artists['Genre'].unique():\n",
    "    x = i.split('/')\n",
    "    for j in x:\n",
    "        j = j.strip()\n",
    "    for j in x:\n",
    "        genres.add(j.lower())\n",
    "Genres = pd.DataFrame(list(genres),columns=['Genre'])\n",
    "Genres['genre_id'] = list(range(1,len(Genres)+1)) # assign id to each genre\n",
    "Genres.to_parquet('../data/wikitop100list/genres.parquet',index=False) # export"
   ]
  },
  {
   "attachments": {},
   "cell_type": "markdown",
   "metadata": {},
   "source": [
    "#### Creating Many-to-Many Relation between Genres/Artists"
   ]
  },
  {
   "cell_type": "code",
   "execution_count": 10,
   "metadata": {},
   "outputs": [],
   "source": [
    "# Intermediary table artist to genre\n",
    "artist_genre = pd.DataFrame(artists['Artist'])\n",
    "\n",
    "# Truth table for belonging-in-genre for each artist\n",
    "for j,i in enumerate(genres):\n",
    "    artist_genre[j+1] = artists['Genre'].apply(lambda x : i in x.lower())\n",
    "\n",
    "# Assign list to each artist containing the unique genre ids\n",
    "artist_genre['ids'] = ' '\n",
    "for l,i in enumerate(artist_genre.itertuples()):\n",
    "    genre_list = []\n",
    "    for k,j in enumerate(i[2:-1]):\n",
    "        if j:\n",
    "            genre_list.append(k+1)\n",
    "    artist_genre.at[ l , 'ids'] = genre_list\n",
    "\n",
    "artist_genre = artist_genre[['Artist','ids']] # Drop truth table\n",
    "artist_genre = artist_genre.explode('ids') # Explode the id list\n",
    "artist_genre.to_parquet('../data/wikitop100list/artist_genre.parquet',index=False) # Export table\n",
    "\n",
    "artists.drop(columns='Genre',inplace=True) # No longer needed\n",
    "artists.to_parquet('../data/wikitop100list/artists.parquet',index=False) # Export table"
   ]
  },
  {
   "cell_type": "code",
   "execution_count": 11,
   "metadata": {},
   "outputs": [
    {
     "data": {
      "text/html": [
       "<div>\n",
       "<style scoped>\n",
       "    .dataframe tbody tr th:only-of-type {\n",
       "        vertical-align: middle;\n",
       "    }\n",
       "\n",
       "    .dataframe tbody tr th {\n",
       "        vertical-align: top;\n",
       "    }\n",
       "\n",
       "    .dataframe thead th {\n",
       "        text-align: right;\n",
       "    }\n",
       "</style>\n",
       "<table border=\"1\" class=\"dataframe\">\n",
       "  <thead>\n",
       "    <tr style=\"text-align: right;\">\n",
       "      <th></th>\n",
       "      <th>Artist</th>\n",
       "      <th>Country</th>\n",
       "      <th>Release-year_of_first_charted_record</th>\n",
       "      <th>Total_certified_units</th>\n",
       "      <th>Claimed_sales</th>\n",
       "      <th>Active</th>\n",
       "      <th>Start_Year</th>\n",
       "      <th>End_Year</th>\n",
       "    </tr>\n",
       "  </thead>\n",
       "  <tbody>\n",
       "    <tr>\n",
       "      <th>0</th>\n",
       "      <td>The Beatles</td>\n",
       "      <td>United Kingdom</td>\n",
       "      <td>1962</td>\n",
       "      <td>290600000.0</td>\n",
       "      <td>600000000.0</td>\n",
       "      <td>False</td>\n",
       "      <td>1960</td>\n",
       "      <td>1970</td>\n",
       "    </tr>\n",
       "    <tr>\n",
       "      <th>1</th>\n",
       "      <td>Elvis Presley</td>\n",
       "      <td>United States</td>\n",
       "      <td>1956</td>\n",
       "      <td>231800000.0</td>\n",
       "      <td>500000000.0</td>\n",
       "      <td>False</td>\n",
       "      <td>1953</td>\n",
       "      <td>1977</td>\n",
       "    </tr>\n",
       "    <tr>\n",
       "      <th>2</th>\n",
       "      <td>Michael Jackson</td>\n",
       "      <td>United States</td>\n",
       "      <td>1971</td>\n",
       "      <td>279900000.0</td>\n",
       "      <td>400000000.0</td>\n",
       "      <td>False</td>\n",
       "      <td>1964</td>\n",
       "      <td>2009</td>\n",
       "    </tr>\n",
       "    <tr>\n",
       "      <th>3</th>\n",
       "      <td>Elton John</td>\n",
       "      <td>United Kingdom</td>\n",
       "      <td>1970</td>\n",
       "      <td>208200000.0</td>\n",
       "      <td>300000000.0</td>\n",
       "      <td>True</td>\n",
       "      <td>1962</td>\n",
       "      <td>None</td>\n",
       "    </tr>\n",
       "    <tr>\n",
       "      <th>4</th>\n",
       "      <td>Queen</td>\n",
       "      <td>United Kingdom</td>\n",
       "      <td>1973</td>\n",
       "      <td>184200000.0</td>\n",
       "      <td>300000000.0</td>\n",
       "      <td>True</td>\n",
       "      <td>1971</td>\n",
       "      <td>None</td>\n",
       "    </tr>\n",
       "  </tbody>\n",
       "</table>\n",
       "</div>"
      ],
      "text/plain": [
       "            Artist         Country Release-year_of_first_charted_record  \\\n",
       "0      The Beatles  United Kingdom                                 1962   \n",
       "1    Elvis Presley   United States                                 1956   \n",
       "2  Michael Jackson   United States                                 1971   \n",
       "3       Elton John  United Kingdom                                 1970   \n",
       "4            Queen  United Kingdom                                 1973   \n",
       "\n",
       "   Total_certified_units  Claimed_sales  Active Start_Year End_Year  \n",
       "0            290600000.0    600000000.0   False       1960     1970  \n",
       "1            231800000.0    500000000.0   False       1953     1977  \n",
       "2            279900000.0    400000000.0   False       1964     2009  \n",
       "3            208200000.0    300000000.0    True       1962     None  \n",
       "4            184200000.0    300000000.0    True       1971     None  "
      ]
     },
     "execution_count": 11,
     "metadata": {},
     "output_type": "execute_result"
    }
   ],
   "source": [
    "x = pd.read_parquet('../data/wikitop100list/artists.parquet') # Test\n",
    "x.head()"
   ]
  },
  {
   "cell_type": "code",
   "execution_count": null,
   "metadata": {},
   "outputs": [],
   "source": []
  }
 ],
 "metadata": {
  "kernelspec": {
   "display_name": "base",
   "language": "python",
   "name": "python3"
  },
  "language_info": {
   "codemirror_mode": {
    "name": "ipython",
    "version": 3
   },
   "file_extension": ".py",
   "mimetype": "text/x-python",
   "name": "python",
   "nbconvert_exporter": "python",
   "pygments_lexer": "ipython3",
   "version": "3.8.8"
  },
  "orig_nbformat": 4,
  "vscode": {
   "interpreter": {
    "hash": "9412b45e6a57aa9914730508726d49801d3b2c579f461e1fb13c705887a7b1f6"
   }
  }
 },
 "nbformat": 4,
 "nbformat_minor": 2
}
