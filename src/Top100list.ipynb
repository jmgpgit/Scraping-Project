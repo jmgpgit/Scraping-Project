{
 "cells": [
  {
   "attachments": {},
   "cell_type": "markdown",
   "metadata": {},
   "source": [
    "### Preliminaries (See Scrape.ipynb for more details)"
   ]
  },
  {
   "cell_type": "code",
   "execution_count": 8,
   "metadata": {},
   "outputs": [],
   "source": [
    "import pandas as pd\n",
    "import numpy as np\n",
    "import matplotlib.pylab as plt\n",
    "from selenium import webdriver\n",
    "from selenium.webdriver.chrome.options import Options\n",
    "from webdriver_manager.chrome import ChromeDriverManager\n",
    "from selenium.webdriver.common.by import By\n",
    "from selenium.webdriver.support.ui import WebDriverWait   \n",
    "from selenium.webdriver.support import expected_conditions as EC \n",
    "from selenium.webdriver import ActionChains as AC   \n",
    "from selenium.webdriver.common.keys import Keys  \n",
    "import time\n",
    "from tqdm.notebook import tqdm\n",
    "\n",
    "opciones=Options()\n",
    "opciones.add_experimental_option('excludeSwitches', ['enable-automation'])\n",
    "opciones.add_experimental_option('useAutomationExtension', False) \n",
    "opciones.add_argument('--start-maximized')\n",
    "#opciones.add_argument('--incognito')\n"
   ]
  },
  {
   "cell_type": "code",
   "execution_count": 9,
   "metadata": {},
   "outputs": [
    {
     "name": "stderr",
     "output_type": "stream",
     "text": [
      "C:\\Users\\jorge\\AppData\\Local\\Temp\\ipykernel_4476\\2478329780.py:2: DeprecationWarning: executable_path has been deprecated, please pass in a Service object\n",
      "  driver=webdriver.Chrome(PATH, options=opciones)\n"
     ]
    }
   ],
   "source": [
    "PATH=ChromeDriverManager().install()\n",
    "driver=webdriver.Chrome(PATH, options=opciones) "
   ]
  },
  {
   "cell_type": "code",
   "execution_count": 10,
   "metadata": {},
   "outputs": [],
   "source": [
    "#find element\n",
    "f = lambda x, y=driver : y.find_element(By.XPATH, x)\n",
    "#find elements\n",
    "fs = lambda x, y=driver : y.find_elements(By.XPATH, x)\n",
    "#find and prepare to click\n",
    "fc = lambda x, y=driver : y.find_element(By.XPATH, x).click()"
   ]
  },
  {
   "attachments": {},
   "cell_type": "markdown",
   "metadata": {},
   "source": [
    "### List of Best Selling Artists"
   ]
  },
  {
   "attachments": {},
   "cell_type": "markdown",
   "metadata": {},
   "source": [
    "##### Open Page"
   ]
  },
  {
   "cell_type": "code",
   "execution_count": 11,
   "metadata": {},
   "outputs": [],
   "source": [
    "top_artists = 'https://en.wikipedia.org/wiki/List_of_best-selling_music_artists'\n",
    "driver.get(top_artists)\n",
    "time.sleep(2)"
   ]
  },
  {
   "attachments": {},
   "cell_type": "markdown",
   "metadata": {},
   "source": [
    "##### Headers"
   ]
  },
  {
   "cell_type": "code",
   "execution_count": 12,
   "metadata": {},
   "outputs": [],
   "source": [
    "headers = [j.text for j in fs('//*[@id=\"mw-content-text\"]/div[1]/table[1]/thead/tr/th')]\n",
    "headers[-2] = headers[-2].split('\\n')[0]"
   ]
  },
  {
   "attachments": {},
   "cell_type": "markdown",
   "metadata": {},
   "source": [
    "##### Body"
   ]
  },
  {
   "cell_type": "code",
   "execution_count": 13,
   "metadata": {},
   "outputs": [],
   "source": [
    "all_tables = [[[f('th',i).text] +[j.text for j in fs('td',i)] for i in fs('tbody/tr',k)] for k in fs('//*[@id=\"mw-content-text\"]/div//table')[:5]]\n",
    "values = [rows for table in all_tables for rows in table]\n",
    "artists = pd.DataFrame(values, columns = headers)"
   ]
  },
  {
   "attachments": {},
   "cell_type": "markdown",
   "metadata": {},
   "source": [
    "##### Cleaning Data"
   ]
  },
  {
   "cell_type": "code",
   "execution_count": 14,
   "metadata": {},
   "outputs": [],
   "source": [
    "for i in ['Period active','Release-year of first charted record','Genre','Claimed sales']:\n",
    "    artists[i] = artists[i].apply(lambda x : x.split('[')[0])\n",
    "\n",
    "artists['Total certified units'] = artists['Total certified units'].apply(lambda x : x.strip('show\\n\\n'))\n",
    "artists['Country'] = artists['Country'].apply(lambda x : x.split('\\n')[0])\n",
    "artists['Active'] = artists['Period active'].apply(lambda x :'present' in x.lower())\n",
    "artists['Total certified units'] = artists['Total certified units'].apply( lambda x : float(x.split('m')[0]) * 1000000)\n",
    "artists['Claimed sales'] = artists['Claimed sales'].apply( lambda x : float(x.split('m')[0]) * 1000000)\n",
    "\n",
    "artists.to_parquet('../data/wikitop100list/artists.parquet',index=False)"
   ]
  },
  {
   "attachments": {},
   "cell_type": "markdown",
   "metadata": {},
   "source": [
    "##### Exporting Genres"
   ]
  },
  {
   "cell_type": "code",
   "execution_count": 15,
   "metadata": {},
   "outputs": [],
   "source": [
    "genres = set()\n",
    "for i in artists['Genre'].unique():\n",
    "    x = i.split('/')\n",
    "    for j in x:\n",
    "        j = j.strip()\n",
    "    for j in x:\n",
    "        genres.add(j.lower())\n",
    "Genres = pd.DataFrame(list(genres),columns=['Genre'])\n",
    "Genres['genre_id'] = list(range(1,len(Genres)+1))\n",
    "Genres.to_parquet('../data/wikitop100list/genres.parquet',index=False)"
   ]
  },
  {
   "attachments": {},
   "cell_type": "markdown",
   "metadata": {},
   "source": [
    "#### Creating Relation Genres-Artists"
   ]
  },
  {
   "cell_type": "code",
   "execution_count": 16,
   "metadata": {},
   "outputs": [],
   "source": [
    "artist_genre = pd.DataFrame(artists['Artist'])\n",
    "for j,i in enumerate(genres):\n",
    "    artist_genre[j+1] = artists['Genre'].apply(lambda x : i in x.lower())\n",
    "\n",
    "artist_genre['ids'] = ' '\n",
    "for l,i in enumerate(artist_genre.itertuples()):\n",
    "    genre_list = []\n",
    "    for k,j in enumerate(i[2:-1]):\n",
    "        if j:\n",
    "            genre_list.append(k+1)\n",
    "    artist_genre.at[ l , 'ids'] = genre_list\n",
    "artist_genre = artist_genre[['Artist','ids']]\n",
    "artist_genre = artist_genre.explode('ids')\n",
    "artist_genre.to_parquet('../data/wikitop100list/artist_genre.parquet',index=False)"
   ]
  },
  {
   "cell_type": "code",
   "execution_count": 17,
   "metadata": {},
   "outputs": [
    {
     "data": {
      "text/html": [
       "<div>\n",
       "<style scoped>\n",
       "    .dataframe tbody tr th:only-of-type {\n",
       "        vertical-align: middle;\n",
       "    }\n",
       "\n",
       "    .dataframe tbody tr th {\n",
       "        vertical-align: top;\n",
       "    }\n",
       "\n",
       "    .dataframe thead th {\n",
       "        text-align: right;\n",
       "    }\n",
       "</style>\n",
       "<table border=\"1\" class=\"dataframe\">\n",
       "  <thead>\n",
       "    <tr style=\"text-align: right;\">\n",
       "      <th></th>\n",
       "      <th>Artist</th>\n",
       "      <th>Country</th>\n",
       "      <th>Period active</th>\n",
       "      <th>Release-year of first charted record</th>\n",
       "      <th>Genre</th>\n",
       "      <th>Total certified units</th>\n",
       "      <th>Claimed sales</th>\n",
       "      <th>Active</th>\n",
       "    </tr>\n",
       "  </thead>\n",
       "  <tbody>\n",
       "    <tr>\n",
       "      <th>0</th>\n",
       "      <td>The Beatles</td>\n",
       "      <td>United Kingdom</td>\n",
       "      <td>1960–1970</td>\n",
       "      <td>1962</td>\n",
       "      <td>Rock / pop</td>\n",
       "      <td>290600000.0</td>\n",
       "      <td>600000000.0</td>\n",
       "      <td>False</td>\n",
       "    </tr>\n",
       "    <tr>\n",
       "      <th>1</th>\n",
       "      <td>Elvis Presley</td>\n",
       "      <td>United States</td>\n",
       "      <td>1953–1977</td>\n",
       "      <td>1956</td>\n",
       "      <td>Rock and roll / pop / country</td>\n",
       "      <td>231800000.0</td>\n",
       "      <td>500000000.0</td>\n",
       "      <td>False</td>\n",
       "    </tr>\n",
       "    <tr>\n",
       "      <th>2</th>\n",
       "      <td>Michael Jackson</td>\n",
       "      <td>United States</td>\n",
       "      <td>1964–2009</td>\n",
       "      <td>1971</td>\n",
       "      <td>Pop / rock / dance / soul / R&amp;B</td>\n",
       "      <td>279900000.0</td>\n",
       "      <td>400000000.0</td>\n",
       "      <td>False</td>\n",
       "    </tr>\n",
       "    <tr>\n",
       "      <th>3</th>\n",
       "      <td>Elton John</td>\n",
       "      <td>United Kingdom</td>\n",
       "      <td>1962–present</td>\n",
       "      <td>1970</td>\n",
       "      <td>Pop / rock</td>\n",
       "      <td>208200000.0</td>\n",
       "      <td>300000000.0</td>\n",
       "      <td>True</td>\n",
       "    </tr>\n",
       "    <tr>\n",
       "      <th>4</th>\n",
       "      <td>Queen</td>\n",
       "      <td>United Kingdom</td>\n",
       "      <td>1971–present</td>\n",
       "      <td>1973</td>\n",
       "      <td>Rock</td>\n",
       "      <td>184200000.0</td>\n",
       "      <td>300000000.0</td>\n",
       "      <td>True</td>\n",
       "    </tr>\n",
       "    <tr>\n",
       "      <th>...</th>\n",
       "      <td>...</td>\n",
       "      <td>...</td>\n",
       "      <td>...</td>\n",
       "      <td>...</td>\n",
       "      <td>...</td>\n",
       "      <td>...</td>\n",
       "      <td>...</td>\n",
       "      <td>...</td>\n",
       "    </tr>\n",
       "    <tr>\n",
       "      <th>97</th>\n",
       "      <td>The Black Eyed Peas</td>\n",
       "      <td>United States</td>\n",
       "      <td>1995–present</td>\n",
       "      <td>1998</td>\n",
       "      <td>Hip-hop / R&amp;B / dance</td>\n",
       "      <td>69800000.0</td>\n",
       "      <td>80000000.0</td>\n",
       "      <td>True</td>\n",
       "    </tr>\n",
       "    <tr>\n",
       "      <th>98</th>\n",
       "      <td>Van Halen</td>\n",
       "      <td>United States</td>\n",
       "      <td>1978–2020</td>\n",
       "      <td>1978</td>\n",
       "      <td>Hard rock / heavy metal</td>\n",
       "      <td>65200000.0</td>\n",
       "      <td>80000000.0</td>\n",
       "      <td>False</td>\n",
       "    </tr>\n",
       "    <tr>\n",
       "      <th>99</th>\n",
       "      <td>Ayumi Hamasaki</td>\n",
       "      <td>Japan</td>\n",
       "      <td>1998–present</td>\n",
       "      <td>1998</td>\n",
       "      <td>J-pop / pop / dance / electronic</td>\n",
       "      <td>64500000.0</td>\n",
       "      <td>80000000.0</td>\n",
       "      <td>True</td>\n",
       "    </tr>\n",
       "    <tr>\n",
       "      <th>100</th>\n",
       "      <td>Tom Petty</td>\n",
       "      <td>United States</td>\n",
       "      <td>1976–2017</td>\n",
       "      <td>1977</td>\n",
       "      <td>Rock</td>\n",
       "      <td>36000000.0</td>\n",
       "      <td>80000000.0</td>\n",
       "      <td>False</td>\n",
       "    </tr>\n",
       "    <tr>\n",
       "      <th>101</th>\n",
       "      <td>Johnny Hallyday</td>\n",
       "      <td>France</td>\n",
       "      <td>1957–2017</td>\n",
       "      <td>1960</td>\n",
       "      <td>Rock / pop</td>\n",
       "      <td>28900000.0</td>\n",
       "      <td>80000000.0</td>\n",
       "      <td>False</td>\n",
       "    </tr>\n",
       "  </tbody>\n",
       "</table>\n",
       "<p>102 rows × 8 columns</p>\n",
       "</div>"
      ],
      "text/plain": [
       "                  Artist         Country Period active  \\\n",
       "0            The Beatles  United Kingdom     1960–1970   \n",
       "1          Elvis Presley   United States     1953–1977   \n",
       "2        Michael Jackson   United States     1964–2009   \n",
       "3             Elton John  United Kingdom  1962–present   \n",
       "4                  Queen  United Kingdom  1971–present   \n",
       "..                   ...             ...           ...   \n",
       "97   The Black Eyed Peas   United States  1995–present   \n",
       "98             Van Halen   United States     1978–2020   \n",
       "99        Ayumi Hamasaki           Japan  1998–present   \n",
       "100            Tom Petty   United States     1976–2017   \n",
       "101      Johnny Hallyday          France     1957–2017   \n",
       "\n",
       "    Release-year of first charted record                             Genre  \\\n",
       "0                                   1962                        Rock / pop   \n",
       "1                                   1956     Rock and roll / pop / country   \n",
       "2                                   1971   Pop / rock / dance / soul / R&B   \n",
       "3                                   1970                        Pop / rock   \n",
       "4                                   1973                              Rock   \n",
       "..                                   ...                               ...   \n",
       "97                                  1998             Hip-hop / R&B / dance   \n",
       "98                                  1978           Hard rock / heavy metal   \n",
       "99                                  1998  J-pop / pop / dance / electronic   \n",
       "100                                 1977                              Rock   \n",
       "101                                 1960                        Rock / pop   \n",
       "\n",
       "     Total certified units  Claimed sales  Active  \n",
       "0              290600000.0    600000000.0   False  \n",
       "1              231800000.0    500000000.0   False  \n",
       "2              279900000.0    400000000.0   False  \n",
       "3              208200000.0    300000000.0    True  \n",
       "4              184200000.0    300000000.0    True  \n",
       "..                     ...            ...     ...  \n",
       "97              69800000.0     80000000.0    True  \n",
       "98              65200000.0     80000000.0   False  \n",
       "99              64500000.0     80000000.0    True  \n",
       "100             36000000.0     80000000.0   False  \n",
       "101             28900000.0     80000000.0   False  \n",
       "\n",
       "[102 rows x 8 columns]"
      ]
     },
     "execution_count": 17,
     "metadata": {},
     "output_type": "execute_result"
    }
   ],
   "source": [
    "x = pd.read_parquet('../data/wikitop100list/artists.parquet')\n",
    "x"
   ]
  },
  {
   "cell_type": "code",
   "execution_count": null,
   "metadata": {},
   "outputs": [],
   "source": []
  }
 ],
 "metadata": {
  "kernelspec": {
   "display_name": "base",
   "language": "python",
   "name": "python3"
  },
  "language_info": {
   "codemirror_mode": {
    "name": "ipython",
    "version": 3
   },
   "file_extension": ".py",
   "mimetype": "text/x-python",
   "name": "python",
   "nbconvert_exporter": "python",
   "pygments_lexer": "ipython3",
   "version": "3.9.16"
  },
  "orig_nbformat": 4,
  "vscode": {
   "interpreter": {
    "hash": "9412b45e6a57aa9914730508726d49801d3b2c579f461e1fb13c705887a7b1f6"
   }
  }
 },
 "nbformat": 4,
 "nbformat_minor": 2
}
