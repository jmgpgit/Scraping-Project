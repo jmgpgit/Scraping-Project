{
 "cells": [
  {
   "cell_type": "code",
   "execution_count": 45,
   "metadata": {},
   "outputs": [],
   "source": [
    "import pandas as pd\n",
    "import json"
   ]
  },
  {
   "cell_type": "code",
   "execution_count": 46,
   "metadata": {},
   "outputs": [],
   "source": [
    "with open('../data/tops/_paths.json', 'r') as fp: # Load paths\n",
    "    artist_paths = json.load(fp)\n",
    "    \n",
    "artist_ranks = pd.read_parquet('../data/wikitop100list/artists.parquet')"
   ]
  },
  {
   "cell_type": "code",
   "execution_count": 47,
   "metadata": {},
   "outputs": [],
   "source": [
    "artist_data = pd.DataFrame(columns = ['Rank', 'Track_Name', 'Listeners', 'Artist', 'Unique_Word_Count'])"
   ]
  },
  {
   "cell_type": "code",
   "execution_count": 48,
   "metadata": {},
   "outputs": [],
   "source": [
    "for i in artist_paths.values():\n",
    "    y = pd.read_parquet(i)\n",
    "    artist_data = pd.concat( [artist_data,y], ignore_index = True)"
   ]
  },
  {
   "cell_type": "code",
   "execution_count": 49,
   "metadata": {},
   "outputs": [],
   "source": [
    "artist_data.rename(columns={'Rank':'Song_Rank'})\n",
    "artist_ranks['Band_Rank'] = artist_ranks['Artist'].index + 1\n",
    "artist_ranks['Artist'] = artist_ranks['Artist'].apply(lambda x : x.replace(' ','_'))\n",
    "artist_data = pd.merge(artist_data,artist_ranks[['Artist','Band_Rank']], how = 'left',left_on='Artist',right_on='Artist')"
   ]
  },
  {
   "cell_type": "code",
   "execution_count": 50,
   "metadata": {},
   "outputs": [],
   "source": [
    "artist_data['Band_Rank'] = artist_data['Band_Rank'].apply(pd.to_numeric, downcast='integer')\n",
    "artist_data['Unique_Word_Count'] = artist_data['Unique_Word_Count'].apply(pd.to_numeric, downcast='float')"
   ]
  },
  {
   "cell_type": "code",
   "execution_count": 53,
   "metadata": {},
   "outputs": [],
   "source": [
    "artist_ranks.to_parquet('../data/wikitop100list/artists.parquet')\n",
    "artist_data.to_parquet('../data/tops/_all_artists.parquet')"
   ]
  }
 ],
 "metadata": {
  "kernelspec": {
   "display_name": "Python 3",
   "language": "python",
   "name": "python3"
  },
  "language_info": {
   "codemirror_mode": {
    "name": "ipython",
    "version": 3
   },
   "file_extension": ".py",
   "mimetype": "text/x-python",
   "name": "python",
   "nbconvert_exporter": "python",
   "pygments_lexer": "ipython3",
   "version": "3.11.2"
  },
  "orig_nbformat": 4,
  "vscode": {
   "interpreter": {
    "hash": "a7e99fc97798e89b261cde3357a501ac015a62222315f9b6d785016d0b13f1a9"
   }
  }
 },
 "nbformat": 4,
 "nbformat_minor": 2
}
