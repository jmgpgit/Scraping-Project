{
 "cells": [
  {
   "attachments": {},
   "cell_type": "markdown",
   "metadata": {},
   "source": [
    "## Scrape of top 10 songs for artists in LastFM\n",
    "\n",
    "### Imports"
   ]
  },
  {
   "cell_type": "code",
   "execution_count": null,
   "metadata": {},
   "outputs": [],
   "source": [
    "import pandas as pd\n",
    "\n",
    "from multiprocessing import cpu_count\n",
    "\n",
    "\n",
    "from selenium import webdriver\n",
    "from selenium.webdriver.firefox.options import Options\n",
    "from selenium.webdriver.common.by import By\n",
    "from selenium.webdriver.firefox.service import Service as FirefoxService\n",
    "from selenium.webdriver.firefox.firefox_binary import FirefoxBinary\n",
    "from webdriver_manager.firefox import GeckoDriverManager\n",
    "from joblib import Parallel, delayed\n",
    "from os.path import isfile\n",
    "import time\n",
    "import warnings\n",
    "warnings.filterwarnings('ignore')\n",
    "\n",
    "opciones=Options()\n",
    "#opciones.headless = True\n",
    "#opciones.add_argument('--incognito')"
   ]
  },
  {
   "attachments": {},
   "cell_type": "markdown",
   "metadata": {},
   "source": [
    "#### Initialize Driver"
   ]
  },
  {
   "cell_type": "code",
   "execution_count": null,
   "metadata": {},
   "outputs": [],
   "source": [
    "PATH=FirefoxService(GeckoDriverManager().install())\n",
    "binary = FirefoxBinary(r'C:\\Program Files\\Mozilla Firefox\\Firefox.exe')\n",
    "\n",
    "driver = webdriver.Firefox(firefox_binary=binary,options = opciones)"
   ]
  },
  {
   "attachments": {},
   "cell_type": "markdown",
   "metadata": {},
   "source": [
    "#### Driver Shorthand *(Deprecated)*"
   ]
  },
  {
   "cell_type": "code",
   "execution_count": null,
   "metadata": {},
   "outputs": [],
   "source": [
    "#find element\n",
    "f = lambda x, y=driver : y.find_element(By.XPATH, x)\n",
    "#find elements\n",
    "fs = lambda x, y=driver : y.find_elements(By.XPATH, x)\n",
    "#find and prepare to click\n",
    "fc = lambda x, y=driver : y.find_element(By.XPATH, x).click()"
   ]
  },
  {
   "attachments": {},
   "cell_type": "markdown",
   "metadata": {},
   "source": [
    "#### Scraping Utilities"
   ]
  },
  {
   "cell_type": "code",
   "execution_count": null,
   "metadata": {},
   "outputs": [],
   "source": [
    "url = 'https://www.last.fm/music/'\n",
    "\n",
    "# HTML XPATH values\n",
    "cookies_XPATH = '//*[@id=\"onetrust-accept-btn-handler\"]'\n",
    "change_period_XPATH = '//*[@id=\"top-tracks\"]/div[1]/button[2]'\n",
    "all_songs_XPATH = '//*[@id=\"top-tracks-sort\"]/li[6]/a'\n",
    "row_XPATH = '//*[@id=\"top-tracks\"]/div[2]/table/tbody//tr'"
   ]
  },
  {
   "cell_type": "code",
   "execution_count": null,
   "metadata": {},
   "outputs": [],
   "source": [
    "#Cleaning functions (for use in the scrapper)\n",
    "def trim_row(row:list):\n",
    "    '''\n",
    "    Only used as part of scrapper function\n",
    "    \n",
    "    Selects only the rows that we want from the table\n",
    "    '''\n",
    "    new = []\n",
    "    new.append(row[0])\n",
    "    new.append(row[4])\n",
    "    new.append(row[7])\n",
    "    return new\n",
    "\n",
    "\n",
    "def row_clean(row:list):\n",
    "    '''\n",
    "    Only used as part of scrapper function\n",
    "    \n",
    "    Cleans up the row items to a better format\n",
    "    '''\n",
    "    new = []\n",
    "    new.append(int(row[0]))\n",
    "    new.append(row[1])\n",
    "    temp = row[2].replace(',','')\n",
    "    new.append(int(temp.split()[0]))\n",
    "    return new"
   ]
  },
  {
   "attachments": {},
   "cell_type": "markdown",
   "metadata": {},
   "source": [
    "### Scraper"
   ]
  },
  {
   "cell_type": "code",
   "execution_count": null,
   "metadata": {},
   "outputs": [],
   "source": [
    "top_10_paths = dict()\n",
    "cols = ['Rank','Track_Name','Listeners']\n",
    "fail_dict = {}\n",
    "\n",
    "\n",
    "def top_10_scrapper(artist:str, error_count = 0):\n",
    "    '''\n",
    "    Scrapes through \"lastfm.com\" to find the top 10 most listened to\n",
    "    songs for the given artist. Saves the information to parquet.\n",
    "    \n",
    "    Method:\n",
    "    1) Navigates the website (accepts cookies, selects table)\n",
    "    2) Clean table rows and add to pandas dataframe\n",
    "    3) Export to .parquet and saves the file path to top_10_paths\n",
    "    \n",
    "    '''\n",
    "    artist = artist.replace('/',' ') # AC/DC giving me problems............\n",
    "    artist = artist.replace(' ','_') # For filemaking\n",
    "    art = url+artist.replace('_','+') # URL search\n",
    "    \n",
    "    path = '../data/tops/' + artist + '.parquet' # Path\n",
    "    if isfile(path):\n",
    "        print(artist, 'already exists in database')\n",
    "        return \n",
    "    \n",
    "    \n",
    "    # Initialize driver\n",
    "    driver = webdriver.Firefox(firefox_binary=binary,options = opciones)\n",
    "    driver.get(art)\n",
    "    # Accept cookies\n",
    "    time.sleep(7)\n",
    "    try:\n",
    "        driver.find_element(By.XPATH, cookies_XPATH).click()\n",
    "        \n",
    "    except:\n",
    "        error_count +=1\n",
    "        if error_count < 3:\n",
    "            print('cookie click error for artist: ',artist)\n",
    "            driver.quit()\n",
    "            return top_10_scrapper(artist, error_count)\n",
    "        else:\n",
    "            print('Error handling (cookies): ', artist)\n",
    "            fail_dict[artist] = 1\n",
    "            driver.quit()\n",
    "            return\n",
    "    # Select top 10 of all time\n",
    "    time.sleep(1)\n",
    "    driver.find_element(By.XPATH, change_period_XPATH).click()\n",
    "    time.sleep(1)\n",
    "    driver.find_element(By.XPATH, all_songs_XPATH).click()\n",
    "    time.sleep(1)\n",
    "    # Select the top 10 table\n",
    "    #elements = list(map(row_clean,[[j.text for j in row] for row in [trim_row(i.find_elements(By.XPATH, 'td')) for i in driver.find_elements(By.XPATH, all_songs_XPATH)]]))\n",
    "    elements = list(map(row_clean,[[j.text for j in trim_row(i.find_elements(By.XPATH,'td'))] for i in driver.find_elements(By.XPATH, row_XPATH)]))\n",
    "    # insert into dataframe and add artist name for safekeeping\n",
    "    time.sleep(2)\n",
    "    driver.quit()\n",
    "    df = pd.DataFrame(elements,columns=cols)\n",
    "    df['Artist'] = artist\n",
    "    # file path\n",
    "    path = '../data/tops/' + artist + '.parquet'\n",
    "    # To dictionary and to parquet for safekeeping\n",
    "    df.to_parquet( path ,index=False)\n",
    "    top_10_paths[artist] = path\n",
    "    print('Uploaded ' + artist)\n",
    "    return "
   ]
  },
  {
   "cell_type": "code",
   "execution_count": null,
   "metadata": {},
   "outputs": [
    {
     "data": {
      "text/plain": [
       "0        The Beatles\n",
       "1      Elvis Presley\n",
       "2    Michael Jackson\n",
       "3         Elton John\n",
       "4              Queen\n",
       "Name: Artist, dtype: object"
      ]
     },
     "execution_count": 15,
     "metadata": {},
     "output_type": "execute_result"
    }
   ],
   "source": [
    "artists = pd.read_parquet(r'..\\data\\wikitop100list\\artists.parquet')['Artist']\n",
    "cpus = cpu_count()-4\n",
    "artists.head()"
   ]
  },
  {
   "cell_type": "code",
   "execution_count": null,
   "metadata": {},
   "outputs": [
    {
     "name": "stdout",
     "output_type": "stream",
     "text": [
      "The_BeatlesElvis_Presley already exists in database\n",
      "Elton_John already exists in database\n",
      " already exists in database\n",
      "Queen already exists in database\n",
      "Madonna already exists in database\n",
      "Led_Zeppelin already exists in database\n",
      "Pink_Floyd already exists in database\n",
      "Beyoncé already exists in database\n",
      "Mariah_Carey already exists in database\n",
      "Whitney_Houston already exists in database\n",
      "Eagles already exists in database\n",
      "Rihanna already exists in database\n",
      "Eminem already exists in database\n",
      "Celine_Dion already exists in database\n",
      "The_Rolling_Stones already exists in database\n",
      "Taylor_Swift already exists in database\n",
      "Drake already exists in database\n",
      "Garth_Brooks already exists in database\n",
      "Billy_Joel already exists in database\n",
      "Kanye_West already exists in database\n",
      "Justin_Bieber already exists in database\n",
      "Ed_Sheeran already exists in database\n",
      "Bruno_Mars already exists in database\n",
      "Bruce_Springsteen already exists in database\n",
      "U2 already exists in database\n",
      "ABBA already exists in database\n",
      "Phil_Collins already exists in database\n",
      "Barbra_Streisand already exists in database\n",
      "Frank_Sinatra already exists in database\n",
      "Katy_Perry already exists in database\n",
      "Aerosmith already exists in database\n",
      "Michael_Jackson already exists in database\n"
     ]
    },
    {
     "ename": "NoSuchElementException",
     "evalue": "Message: Unable to locate element: //*[@id=\"top-tracks\"]/div[1]/button[2]\nStacktrace:\nRemoteError@chrome://remote/content/shared/RemoteError.sys.mjs:8:8\nWebDriverError@chrome://remote/content/shared/webdriver/Errors.sys.mjs:180:5\nNoSuchElementError@chrome://remote/content/shared/webdriver/Errors.sys.mjs:392:5\nelement.find/</<@chrome://remote/content/marionette/element.sys.mjs:275:16\n",
     "output_type": "error",
     "traceback": [
      "\u001b[1;31m---------------------------------------------------------------------------\u001b[0m",
      "\u001b[1;31mNoSuchElementException\u001b[0m                    Traceback (most recent call last)",
      "Cell \u001b[1;32mIn[16], line 1\u001b[0m\n\u001b[1;32m----> 1\u001b[0m Parallel(n_jobs\u001b[39m=\u001b[39;49mcpus, verbose\u001b[39m=\u001b[39;49m\u001b[39mFalse\u001b[39;49;00m,prefer\u001b[39m=\u001b[39;49m\u001b[39m\"\u001b[39;49m\u001b[39mthreads\u001b[39;49m\u001b[39m\"\u001b[39;49m)(delayed(top_10_scrapper)(x) \u001b[39mfor\u001b[39;49;00m x \u001b[39min\u001b[39;49;00m artists)\n",
      "File \u001b[1;32m~\\AppData\\Local\\Packages\\PythonSoftwareFoundation.Python.3.11_qbz5n2kfra8p0\\LocalCache\\local-packages\\Python311\\site-packages\\joblib\\parallel.py:1098\u001b[0m, in \u001b[0;36mParallel.__call__\u001b[1;34m(self, iterable)\u001b[0m\n\u001b[0;32m   1095\u001b[0m     \u001b[39mself\u001b[39m\u001b[39m.\u001b[39m_iterating \u001b[39m=\u001b[39m \u001b[39mFalse\u001b[39;00m\n\u001b[0;32m   1097\u001b[0m \u001b[39mwith\u001b[39;00m \u001b[39mself\u001b[39m\u001b[39m.\u001b[39m_backend\u001b[39m.\u001b[39mretrieval_context():\n\u001b[1;32m-> 1098\u001b[0m     \u001b[39mself\u001b[39;49m\u001b[39m.\u001b[39;49mretrieve()\n\u001b[0;32m   1099\u001b[0m \u001b[39m# Make sure that we get a last message telling us we are done\u001b[39;00m\n\u001b[0;32m   1100\u001b[0m elapsed_time \u001b[39m=\u001b[39m time\u001b[39m.\u001b[39mtime() \u001b[39m-\u001b[39m \u001b[39mself\u001b[39m\u001b[39m.\u001b[39m_start_time\n",
      "File \u001b[1;32m~\\AppData\\Local\\Packages\\PythonSoftwareFoundation.Python.3.11_qbz5n2kfra8p0\\LocalCache\\local-packages\\Python311\\site-packages\\joblib\\parallel.py:975\u001b[0m, in \u001b[0;36mParallel.retrieve\u001b[1;34m(self)\u001b[0m\n\u001b[0;32m    973\u001b[0m \u001b[39mtry\u001b[39;00m:\n\u001b[0;32m    974\u001b[0m     \u001b[39mif\u001b[39;00m \u001b[39mgetattr\u001b[39m(\u001b[39mself\u001b[39m\u001b[39m.\u001b[39m_backend, \u001b[39m'\u001b[39m\u001b[39msupports_timeout\u001b[39m\u001b[39m'\u001b[39m, \u001b[39mFalse\u001b[39;00m):\n\u001b[1;32m--> 975\u001b[0m         \u001b[39mself\u001b[39m\u001b[39m.\u001b[39m_output\u001b[39m.\u001b[39mextend(job\u001b[39m.\u001b[39;49mget(timeout\u001b[39m=\u001b[39;49m\u001b[39mself\u001b[39;49m\u001b[39m.\u001b[39;49mtimeout))\n\u001b[0;32m    976\u001b[0m     \u001b[39melse\u001b[39;00m:\n\u001b[0;32m    977\u001b[0m         \u001b[39mself\u001b[39m\u001b[39m.\u001b[39m_output\u001b[39m.\u001b[39mextend(job\u001b[39m.\u001b[39mget())\n",
      "File \u001b[1;32mC:\\Program Files\\WindowsApps\\PythonSoftwareFoundation.Python.3.11_3.11.752.0_x64__qbz5n2kfra8p0\\Lib\\multiprocessing\\pool.py:774\u001b[0m, in \u001b[0;36mApplyResult.get\u001b[1;34m(self, timeout)\u001b[0m\n\u001b[0;32m    772\u001b[0m     \u001b[39mreturn\u001b[39;00m \u001b[39mself\u001b[39m\u001b[39m.\u001b[39m_value\n\u001b[0;32m    773\u001b[0m \u001b[39melse\u001b[39;00m:\n\u001b[1;32m--> 774\u001b[0m     \u001b[39mraise\u001b[39;00m \u001b[39mself\u001b[39m\u001b[39m.\u001b[39m_value\n",
      "File \u001b[1;32mC:\\Program Files\\WindowsApps\\PythonSoftwareFoundation.Python.3.11_3.11.752.0_x64__qbz5n2kfra8p0\\Lib\\multiprocessing\\pool.py:125\u001b[0m, in \u001b[0;36mworker\u001b[1;34m(inqueue, outqueue, initializer, initargs, maxtasks, wrap_exception)\u001b[0m\n\u001b[0;32m    123\u001b[0m job, i, func, args, kwds \u001b[39m=\u001b[39m task\n\u001b[0;32m    124\u001b[0m \u001b[39mtry\u001b[39;00m:\n\u001b[1;32m--> 125\u001b[0m     result \u001b[39m=\u001b[39m (\u001b[39mTrue\u001b[39;00m, func(\u001b[39m*\u001b[39;49margs, \u001b[39m*\u001b[39;49m\u001b[39m*\u001b[39;49mkwds))\n\u001b[0;32m    126\u001b[0m \u001b[39mexcept\u001b[39;00m \u001b[39mException\u001b[39;00m \u001b[39mas\u001b[39;00m e:\n\u001b[0;32m    127\u001b[0m     \u001b[39mif\u001b[39;00m wrap_exception \u001b[39mand\u001b[39;00m func \u001b[39mis\u001b[39;00m \u001b[39mnot\u001b[39;00m _helper_reraises_exception:\n",
      "File \u001b[1;32m~\\AppData\\Local\\Packages\\PythonSoftwareFoundation.Python.3.11_qbz5n2kfra8p0\\LocalCache\\local-packages\\Python311\\site-packages\\joblib\\_parallel_backends.py:620\u001b[0m, in \u001b[0;36mSafeFunction.__call__\u001b[1;34m(self, *args, **kwargs)\u001b[0m\n\u001b[0;32m    618\u001b[0m \u001b[39mdef\u001b[39;00m \u001b[39m__call__\u001b[39m(\u001b[39mself\u001b[39m, \u001b[39m*\u001b[39margs, \u001b[39m*\u001b[39m\u001b[39m*\u001b[39mkwargs):\n\u001b[0;32m    619\u001b[0m     \u001b[39mtry\u001b[39;00m:\n\u001b[1;32m--> 620\u001b[0m         \u001b[39mreturn\u001b[39;00m \u001b[39mself\u001b[39;49m\u001b[39m.\u001b[39;49mfunc(\u001b[39m*\u001b[39;49margs, \u001b[39m*\u001b[39;49m\u001b[39m*\u001b[39;49mkwargs)\n\u001b[0;32m    621\u001b[0m     \u001b[39mexcept\u001b[39;00m \u001b[39mKeyboardInterrupt\u001b[39;00m \u001b[39mas\u001b[39;00m e:\n\u001b[0;32m    622\u001b[0m         \u001b[39m# We capture the KeyboardInterrupt and reraise it as\u001b[39;00m\n\u001b[0;32m    623\u001b[0m         \u001b[39m# something different, as multiprocessing does not\u001b[39;00m\n\u001b[0;32m    624\u001b[0m         \u001b[39m# interrupt processing for a KeyboardInterrupt\u001b[39;00m\n\u001b[0;32m    625\u001b[0m         \u001b[39mraise\u001b[39;00m WorkerInterrupt() \u001b[39mfrom\u001b[39;00m \u001b[39me\u001b[39;00m\n",
      "File \u001b[1;32m~\\AppData\\Local\\Packages\\PythonSoftwareFoundation.Python.3.11_qbz5n2kfra8p0\\LocalCache\\local-packages\\Python311\\site-packages\\joblib\\parallel.py:288\u001b[0m, in \u001b[0;36mBatchedCalls.__call__\u001b[1;34m(self)\u001b[0m\n\u001b[0;32m    284\u001b[0m \u001b[39mdef\u001b[39;00m \u001b[39m__call__\u001b[39m(\u001b[39mself\u001b[39m):\n\u001b[0;32m    285\u001b[0m     \u001b[39m# Set the default nested backend to self._backend but do not set the\u001b[39;00m\n\u001b[0;32m    286\u001b[0m     \u001b[39m# change the default number of processes to -1\u001b[39;00m\n\u001b[0;32m    287\u001b[0m     \u001b[39mwith\u001b[39;00m parallel_backend(\u001b[39mself\u001b[39m\u001b[39m.\u001b[39m_backend, n_jobs\u001b[39m=\u001b[39m\u001b[39mself\u001b[39m\u001b[39m.\u001b[39m_n_jobs):\n\u001b[1;32m--> 288\u001b[0m         \u001b[39mreturn\u001b[39;00m [func(\u001b[39m*\u001b[39;49margs, \u001b[39m*\u001b[39;49m\u001b[39m*\u001b[39;49mkwargs)\n\u001b[0;32m    289\u001b[0m                 \u001b[39mfor\u001b[39;49;00m func, args, kwargs \u001b[39min\u001b[39;49;00m \u001b[39mself\u001b[39;49m\u001b[39m.\u001b[39;49mitems]\n",
      "File \u001b[1;32m~\\AppData\\Local\\Packages\\PythonSoftwareFoundation.Python.3.11_qbz5n2kfra8p0\\LocalCache\\local-packages\\Python311\\site-packages\\joblib\\parallel.py:288\u001b[0m, in \u001b[0;36m<listcomp>\u001b[1;34m(.0)\u001b[0m\n\u001b[0;32m    284\u001b[0m \u001b[39mdef\u001b[39;00m \u001b[39m__call__\u001b[39m(\u001b[39mself\u001b[39m):\n\u001b[0;32m    285\u001b[0m     \u001b[39m# Set the default nested backend to self._backend but do not set the\u001b[39;00m\n\u001b[0;32m    286\u001b[0m     \u001b[39m# change the default number of processes to -1\u001b[39;00m\n\u001b[0;32m    287\u001b[0m     \u001b[39mwith\u001b[39;00m parallel_backend(\u001b[39mself\u001b[39m\u001b[39m.\u001b[39m_backend, n_jobs\u001b[39m=\u001b[39m\u001b[39mself\u001b[39m\u001b[39m.\u001b[39m_n_jobs):\n\u001b[1;32m--> 288\u001b[0m         \u001b[39mreturn\u001b[39;00m [func(\u001b[39m*\u001b[39;49margs, \u001b[39m*\u001b[39;49m\u001b[39m*\u001b[39;49mkwargs)\n\u001b[0;32m    289\u001b[0m                 \u001b[39mfor\u001b[39;00m func, args, kwargs \u001b[39min\u001b[39;00m \u001b[39mself\u001b[39m\u001b[39m.\u001b[39mitems]\n",
      "Cell \u001b[1;32mIn[14], line 44\u001b[0m, in \u001b[0;36mtop_10_scrapper\u001b[1;34m(artist, error_count)\u001b[0m\n\u001b[0;32m     42\u001b[0m \u001b[39m# Select top 10 of all time\u001b[39;00m\n\u001b[0;32m     43\u001b[0m time\u001b[39m.\u001b[39msleep(\u001b[39m1\u001b[39m)\n\u001b[1;32m---> 44\u001b[0m driver\u001b[39m.\u001b[39;49mfind_element(By\u001b[39m.\u001b[39;49mXPATH, change_period_XPATH)\u001b[39m.\u001b[39mclick()\n\u001b[0;32m     45\u001b[0m time\u001b[39m.\u001b[39msleep(\u001b[39m1\u001b[39m)\n\u001b[0;32m     46\u001b[0m driver\u001b[39m.\u001b[39mfind_element(By\u001b[39m.\u001b[39mXPATH, all_songs_XPATH)\u001b[39m.\u001b[39mclick()\n",
      "File \u001b[1;32m~\\AppData\\Local\\Packages\\PythonSoftwareFoundation.Python.3.11_qbz5n2kfra8p0\\LocalCache\\local-packages\\Python311\\site-packages\\selenium\\webdriver\\remote\\webdriver.py:830\u001b[0m, in \u001b[0;36mWebDriver.find_element\u001b[1;34m(self, by, value)\u001b[0m\n\u001b[0;32m    827\u001b[0m     by \u001b[39m=\u001b[39m By\u001b[39m.\u001b[39mCSS_SELECTOR\n\u001b[0;32m    828\u001b[0m     value \u001b[39m=\u001b[39m \u001b[39mf\u001b[39m\u001b[39m'\u001b[39m\u001b[39m[name=\u001b[39m\u001b[39m\"\u001b[39m\u001b[39m{\u001b[39;00mvalue\u001b[39m}\u001b[39;00m\u001b[39m\"\u001b[39m\u001b[39m]\u001b[39m\u001b[39m'\u001b[39m\n\u001b[1;32m--> 830\u001b[0m \u001b[39mreturn\u001b[39;00m \u001b[39mself\u001b[39;49m\u001b[39m.\u001b[39;49mexecute(Command\u001b[39m.\u001b[39;49mFIND_ELEMENT, {\u001b[39m\"\u001b[39;49m\u001b[39musing\u001b[39;49m\u001b[39m\"\u001b[39;49m: by, \u001b[39m\"\u001b[39;49m\u001b[39mvalue\u001b[39;49m\u001b[39m\"\u001b[39;49m: value})[\u001b[39m\"\u001b[39m\u001b[39mvalue\u001b[39m\u001b[39m\"\u001b[39m]\n",
      "File \u001b[1;32m~\\AppData\\Local\\Packages\\PythonSoftwareFoundation.Python.3.11_qbz5n2kfra8p0\\LocalCache\\local-packages\\Python311\\site-packages\\selenium\\webdriver\\remote\\webdriver.py:440\u001b[0m, in \u001b[0;36mWebDriver.execute\u001b[1;34m(self, driver_command, params)\u001b[0m\n\u001b[0;32m    438\u001b[0m response \u001b[39m=\u001b[39m \u001b[39mself\u001b[39m\u001b[39m.\u001b[39mcommand_executor\u001b[39m.\u001b[39mexecute(driver_command, params)\n\u001b[0;32m    439\u001b[0m \u001b[39mif\u001b[39;00m response:\n\u001b[1;32m--> 440\u001b[0m     \u001b[39mself\u001b[39;49m\u001b[39m.\u001b[39;49merror_handler\u001b[39m.\u001b[39;49mcheck_response(response)\n\u001b[0;32m    441\u001b[0m     response[\u001b[39m\"\u001b[39m\u001b[39mvalue\u001b[39m\u001b[39m\"\u001b[39m] \u001b[39m=\u001b[39m \u001b[39mself\u001b[39m\u001b[39m.\u001b[39m_unwrap_value(response\u001b[39m.\u001b[39mget(\u001b[39m\"\u001b[39m\u001b[39mvalue\u001b[39m\u001b[39m\"\u001b[39m, \u001b[39mNone\u001b[39;00m))\n\u001b[0;32m    442\u001b[0m     \u001b[39mreturn\u001b[39;00m response\n",
      "File \u001b[1;32m~\\AppData\\Local\\Packages\\PythonSoftwareFoundation.Python.3.11_qbz5n2kfra8p0\\LocalCache\\local-packages\\Python311\\site-packages\\selenium\\webdriver\\remote\\errorhandler.py:245\u001b[0m, in \u001b[0;36mErrorHandler.check_response\u001b[1;34m(self, response)\u001b[0m\n\u001b[0;32m    243\u001b[0m         alert_text \u001b[39m=\u001b[39m value[\u001b[39m\"\u001b[39m\u001b[39malert\u001b[39m\u001b[39m\"\u001b[39m]\u001b[39m.\u001b[39mget(\u001b[39m\"\u001b[39m\u001b[39mtext\u001b[39m\u001b[39m\"\u001b[39m)\n\u001b[0;32m    244\u001b[0m     \u001b[39mraise\u001b[39;00m exception_class(message, screen, stacktrace, alert_text)  \u001b[39m# type: ignore[call-arg]  # mypy is not smart enough here\u001b[39;00m\n\u001b[1;32m--> 245\u001b[0m \u001b[39mraise\u001b[39;00m exception_class(message, screen, stacktrace)\n",
      "\u001b[1;31mNoSuchElementException\u001b[0m: Message: Unable to locate element: //*[@id=\"top-tracks\"]/div[1]/button[2]\nStacktrace:\nRemoteError@chrome://remote/content/shared/RemoteError.sys.mjs:8:8\nWebDriverError@chrome://remote/content/shared/webdriver/Errors.sys.mjs:180:5\nNoSuchElementError@chrome://remote/content/shared/webdriver/Errors.sys.mjs:392:5\nelement.find/</<@chrome://remote/content/marionette/element.sys.mjs:275:16\n"
     ]
    },
    {
     "name": "stdout",
     "output_type": "stream",
     "text": [
      "Uploaded Lady_Gaga\n",
      "Uploaded Metallica\n",
      "Uploaded Lil_Wayne\n",
      "Uploaded Maroon_5\n",
      "Uploaded Chris_Brown\n",
      "Uploaded Jay-Z\n",
      "Uploaded Adele\n",
      "Uploaded Red_Hot_Chili_Peppers\n"
     ]
    }
   ],
   "source": [
    "Parallel(n_jobs=cpus, verbose=False,prefer=\"threads\")(delayed(top_10_scrapper)(x) for x in artists)\n"
   ]
  },
  {
   "cell_type": "code",
   "execution_count": null,
   "metadata": {},
   "outputs": [
    {
     "data": {
      "text/html": [
       "<div>\n",
       "<style scoped>\n",
       "    .dataframe tbody tr th:only-of-type {\n",
       "        vertical-align: middle;\n",
       "    }\n",
       "\n",
       "    .dataframe tbody tr th {\n",
       "        vertical-align: top;\n",
       "    }\n",
       "\n",
       "    .dataframe thead th {\n",
       "        text-align: right;\n",
       "    }\n",
       "</style>\n",
       "<table border=\"1\" class=\"dataframe\">\n",
       "  <thead>\n",
       "    <tr style=\"text-align: right;\">\n",
       "      <th></th>\n",
       "      <th>Rank</th>\n",
       "      <th>Track_Name</th>\n",
       "      <th>Listeners</th>\n",
       "      <th>Artist</th>\n",
       "    </tr>\n",
       "  </thead>\n",
       "  <tbody>\n",
       "    <tr>\n",
       "      <th>0</th>\n",
       "      <td>1</td>\n",
       "      <td>Can't Help Falling in Love</td>\n",
       "      <td>809180</td>\n",
       "      <td>Elvis_Presley</td>\n",
       "    </tr>\n",
       "    <tr>\n",
       "      <th>1</th>\n",
       "      <td>2</td>\n",
       "      <td>Jailhouse Rock</td>\n",
       "      <td>791578</td>\n",
       "      <td>Elvis_Presley</td>\n",
       "    </tr>\n",
       "    <tr>\n",
       "      <th>2</th>\n",
       "      <td>3</td>\n",
       "      <td>Suspicious Minds</td>\n",
       "      <td>642944</td>\n",
       "      <td>Elvis_Presley</td>\n",
       "    </tr>\n",
       "    <tr>\n",
       "      <th>3</th>\n",
       "      <td>4</td>\n",
       "      <td>Hound Dog</td>\n",
       "      <td>636529</td>\n",
       "      <td>Elvis_Presley</td>\n",
       "    </tr>\n",
       "    <tr>\n",
       "      <th>4</th>\n",
       "      <td>5</td>\n",
       "      <td>Blue Christmas</td>\n",
       "      <td>604895</td>\n",
       "      <td>Elvis_Presley</td>\n",
       "    </tr>\n",
       "    <tr>\n",
       "      <th>5</th>\n",
       "      <td>6</td>\n",
       "      <td>Heartbreak Hotel</td>\n",
       "      <td>489170</td>\n",
       "      <td>Elvis_Presley</td>\n",
       "    </tr>\n",
       "    <tr>\n",
       "      <th>6</th>\n",
       "      <td>7</td>\n",
       "      <td>Blue Suede Shoes</td>\n",
       "      <td>406272</td>\n",
       "      <td>Elvis_Presley</td>\n",
       "    </tr>\n",
       "    <tr>\n",
       "      <th>7</th>\n",
       "      <td>8</td>\n",
       "      <td>All Shook Up</td>\n",
       "      <td>401750</td>\n",
       "      <td>Elvis_Presley</td>\n",
       "    </tr>\n",
       "    <tr>\n",
       "      <th>8</th>\n",
       "      <td>9</td>\n",
       "      <td>Love Me Tender</td>\n",
       "      <td>397282</td>\n",
       "      <td>Elvis_Presley</td>\n",
       "    </tr>\n",
       "    <tr>\n",
       "      <th>9</th>\n",
       "      <td>10</td>\n",
       "      <td>Burning Love</td>\n",
       "      <td>397213</td>\n",
       "      <td>Elvis_Presley</td>\n",
       "    </tr>\n",
       "  </tbody>\n",
       "</table>\n",
       "</div>"
      ],
      "text/plain": [
       "   Rank                  Track_Name  Listeners         Artist\n",
       "0     1  Can't Help Falling in Love     809180  Elvis_Presley\n",
       "1     2              Jailhouse Rock     791578  Elvis_Presley\n",
       "2     3            Suspicious Minds     642944  Elvis_Presley\n",
       "3     4                   Hound Dog     636529  Elvis_Presley\n",
       "4     5              Blue Christmas     604895  Elvis_Presley\n",
       "5     6            Heartbreak Hotel     489170  Elvis_Presley\n",
       "6     7            Blue Suede Shoes     406272  Elvis_Presley\n",
       "7     8                All Shook Up     401750  Elvis_Presley\n",
       "8     9              Love Me Tender     397282  Elvis_Presley\n",
       "9    10                Burning Love     397213  Elvis_Presley"
      ]
     },
     "execution_count": 77,
     "metadata": {},
     "output_type": "execute_result"
    }
   ],
   "source": [
    "x = pd.read_parquet('../data/tops/elvis_presley.parquet')\n",
    "x"
   ]
  },
  {
   "cell_type": "code",
   "execution_count": null,
   "metadata": {},
   "outputs": [],
   "source": []
  }
 ],
 "metadata": {
  "kernelspec": {
   "display_name": "Python 3",
   "language": "python",
   "name": "python3"
  },
  "language_info": {
   "codemirror_mode": {
    "name": "ipython",
    "version": 3
   },
   "file_extension": ".py",
   "mimetype": "text/x-python",
   "name": "python",
   "nbconvert_exporter": "python",
   "pygments_lexer": "ipython3",
   "version": "3.11.2"
  },
  "orig_nbformat": 4,
  "vscode": {
   "interpreter": {
    "hash": "a7e99fc97798e89b261cde3357a501ac015a62222315f9b6d785016d0b13f1a9"
   }
  }
 },
 "nbformat": 4,
 "nbformat_minor": 2
}
